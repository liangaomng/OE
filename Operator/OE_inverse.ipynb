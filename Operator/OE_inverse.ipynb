{
 "cells": [
  {
   "cell_type": "code",
   "execution_count": 36,
   "metadata": {},
   "outputs": [],
   "source": [
    "import torch \n",
    "from torch import nn\n",
    "from neuralop.models import FNO\n",
    "from torch.optim import Adam"
   ]
  },
  {
   "cell_type": "code",
   "execution_count": 37,
   "metadata": {},
   "outputs": [],
   "source": [
    "class Branch_net(nn.Module):\n",
    "    def __init__(self,input,hidden,output):\n",
    "        super(Branch_net,self).__init__()\n",
    "            \n",
    "        self._net = nn.Sequential(\n",
    "                     nn.Linear(input, hidden),\n",
    "                     nn.Tanh(),\n",
    "                     nn.Linear(hidden, hidden),\n",
    "                     nn.Tanh(),\n",
    "                     nn.Linear(hidden, output),\n",
    "                     nn.Tanh(),\n",
    "                    )\n",
    "    def forward(self,x):\n",
    "       \n",
    "        out=self._net(x)\n",
    "        return out\n",
    "\n",
    "\n",
    "class MFNO(nn.Module):\n",
    "  def __init__(self):\n",
    "      super(MFNO,self).__init__()\n",
    "      self.bran_nn = Branch_net(2,50,1)\n",
    "      self.fno = FNO(n_modes=(1,1),hidden_channels=12,in_channels=1,out_channels=1)\n",
    "\n",
    "  def forward(self,x,condition):\n",
    "      #对序列进行fno\n",
    "      fno_out = self. fno(x) #[4, 3, 640, 300]，640是时间步\n",
    "\n",
    "      out = self.bran_nn(condition)\n",
    "      out = out.unsqueeze(-1)\n",
    "      out = out.unsqueeze(-1)\n",
    "      #([batch, 3, 1, 300])\n",
    "      final_out = fno_out*out\n",
    "      return final_out\n",
    "  def Get_brann(self,Simulate,ini_data):\n",
    "      fno_out = self. fno(ini_data) #[4, 3, 640, 300]，640是时间步\n",
    "      brann = Simulate/fno_out\n",
    "      return brann\n",
    "\n",
    "      \n",
    "      "
   ]
  },
  {
   "cell_type": "code",
   "execution_count": 38,
   "metadata": {},
   "outputs": [],
   "source": [
    "# Instantiate the model\n",
    "model = MFNO()"
   ]
  },
  {
   "cell_type": "code",
   "execution_count": null,
   "metadata": {},
   "outputs": [],
   "source": []
  },
  {
   "cell_type": "code",
   "execution_count": 5,
   "metadata": {},
   "outputs": [
    {
     "name": "stdout",
     "output_type": "stream",
     "text": [
      "Total number of trainable parameters: 11708\n"
     ]
    }
   ],
   "source": [
    "def count_parameters(model):\n",
    "    return sum(p.numel() for p in model.parameters() if p.requires_grad)\n",
    "\n",
    "model = MFNO()  # 假设你已经定义和初始化了你的模型\n",
    "print(\"Total number of trainable parameters:\", count_parameters(model))\n"
   ]
  },
  {
   "cell_type": "code",
   "execution_count": 7,
   "metadata": {},
   "outputs": [],
   "source": [
    "initial_condition =torch.rand((1,1,30,30))\n",
    "real_condition = torch.rand((1,2))\n",
    "a=model(initial_condition,real_condition)"
   ]
  },
  {
   "cell_type": "code",
   "execution_count": 8,
   "metadata": {},
   "outputs": [],
   "source": [
    "bran=model.Get_brann(a,initial_condition).detach()"
   ]
  },
  {
   "cell_type": "code",
   "execution_count": 10,
   "metadata": {},
   "outputs": [],
   "source": [
    "def freeze_all(model):\n",
    "    for param in model.parameters():\n",
    "        param.requires_grad = True\n"
   ]
  },
  {
   "cell_type": "code",
   "execution_count": 11,
   "metadata": {},
   "outputs": [],
   "source": [
    "freeze_all(model)"
   ]
  },
  {
   "cell_type": "code",
   "execution_count": 71,
   "metadata": {},
   "outputs": [],
   "source": [
    "def gradient_objective_function(model, inputs, target):\n",
    "    inputs.requires_grad_(True)\n",
    "    outputs = model.bran_nn(inputs)\n",
    "\n",
    "    t=target[0,0,0,1] # 因为重复\n",
    "    loss = (outputs - t).pow(2).mean()  # 使用MSE作为损失函数\n",
    "    \n",
    "    loss.backward()\n",
    "    grad=inputs.grad.data\n",
    "    \n",
    "    return grad, loss.item(),outputs.item()"
   ]
  },
  {
   "cell_type": "code",
   "execution_count": 89,
   "metadata": {},
   "outputs": [],
   "source": [
    "import matplotlib.colors as mcolors"
   ]
  },
  {
   "cell_type": "code",
   "execution_count": 210,
   "metadata": {},
   "outputs": [
    {
     "name": "stdout",
     "output_type": "stream",
     "text": [
      "epoch= 0 tensor([13.9868, 37.3629]) 0.0014375736936926842\n",
      "brann_out -0.0010663230204954743\n",
      "epoch= 1 tensor([58.6436, 79.4686]) 0.00015342143888119608\n",
      "brann_out -0.0010663230204954743\n",
      "Best position (a, b): [58.643642 79.46863 ]\n",
      "Best score (distance from target): 0.00015342143888119608\n"
     ]
    }
   ],
   "source": [
    "import matplotlib.pyplot as plt\n",
    "class GradientInformedPSO:\n",
    "    def __init__(self, model, gradient_func, target, num_particles=5, dims=2, epochs=2, lr=0.0001,w=0.5):\n",
    "        self.model = model\n",
    "        self.gradient_func = gradient_func\n",
    "        self.target = target\n",
    "        self.num_particles = num_particles\n",
    "        self.dims = dims\n",
    "        self.epochs = epochs\n",
    "        self.lr = lr\n",
    "        self.particles = torch.rand(num_particles, dims)*100   # 初始化粒子位置\n",
    "        self.velocities = torch.zeros(num_particles, dims)  # 初始化粒子速度\n",
    "        self.best_positions = torch.clone(self.particles)  # 个体最佳位置\n",
    "        self.best_scores = torch.full((num_particles,), float('inf'))  # 个体最佳分数\n",
    "        self.global_best_position = None\n",
    "        self.global_best_score = float('inf')\n",
    "        self.w = 0.5\n",
    "               # 历史记录\n",
    "        self.particles_history = []\n",
    "        self.velocities_history = []\n",
    "        self.global_best_score_history = []\n",
    "\n",
    "    def optimize(self):\n",
    "        for epoch in range(self.epochs):\n",
    "         \n",
    "            for i in range(self.num_particles):\n",
    "                gradient, score,out_put = self.gradient_func(self.model, self.particles[i].unsqueeze(0), self.target)\n",
    "                       # 历史记录\n",
    "                self.particles_history.append(self.particles.clone())\n",
    "                self.velocities_history.append(self.velocities.clone())\n",
    "                self.global_best_score_history.append(self.global_best_score)\n",
    "                if score < self.best_scores[i]:\n",
    "                    self.best_scores[i] = score\n",
    "                    self.best_positions[i] = self.particles[i]\n",
    "\n",
    "                # 更新全局最佳位置\n",
    "                if score < self.global_best_score:\n",
    "                    self.global_best_score = score\n",
    "                    self.global_best_position = self.particles[i]\n",
    "                \n",
    "                # 更新速度和位置\n",
    "               \n",
    "                r1, r2 = torch.rand(2)  # 随机数\n",
    "                c1, c2 = 1.49445, 1.49445  # 学习因子，通常为1.49445\n",
    "                self.velocities[i] = (\n",
    "                    self.w * self.velocities[i] +\n",
    "                    c1 * r1 * (self.best_positions[i] - self.particles[i]) +\n",
    "                    c2 * r2 * (self.global_best_position - self.particles[i]) +\n",
    "                    self.lr * gradient.squeeze()\n",
    "                )\n",
    "\n",
    "\n",
    "\n",
    "                self.particles[i] -= self.velocities[i]  # 更新位置\n",
    "\n",
    "            print(\"epoch=\", epoch,self.global_best_position,self.global_best_score)\n",
    "            print(\"brann_out\",out_put)\n",
    "\n",
    "        return self.global_best_position.cpu().numpy(), self.global_best_score\n",
    "   \n",
    "    \n",
    "    def visualize(self):\n",
    "        import matplotlib.pyplot as plt\n",
    "        import matplotlib.colors as mcolors\n",
    "        fig, ax = plt.subplots(figsize=(6, 5))\n",
    "        cmap = plt.cm.viridis  # Choose a colormap\n",
    "        \n",
    "        # Normalize the epoch numbers for color mapping\n",
    "        norm = mcolors.Normalize(vmin=0, vmax=self.epochs)\n",
    "\n",
    "        # Plot the trajectories of each particle\n",
    "        for particle_index in range(self.num_particles):\n",
    "            # Generate a color for each particle inside the loop where it's used\n",
    "            particle_color = cmap(norm(particle_index / self.num_particles))\n",
    "            \n",
    "        for epoch in range(1, self.epochs):\n",
    "            # Previous and current position\n",
    "            prev_pos = self.particles_history[epoch-1][particle_index].cpu().numpy()\n",
    "            curr_pos = self.particles_history[epoch][particle_index].cpu().numpy()\n",
    "            \n",
    "            # Draw the trajectory segment\n",
    "            ax.plot([prev_pos[0], curr_pos[0]], [prev_pos[1], curr_pos[1]], color=particle_color)\n",
    "\n",
    "        # Draw the velocity vectors for the last epoch\n",
    "        positions = self.particles_history[-1].cpu().numpy()\n",
    "        velocities = self.velocities_history[-1].cpu().numpy()\n",
    "        for i in range(self.num_particles):\n",
    "            # Fix: Correctly use the color for each particle inside the loop\n",
    "            particle_color = cmap(norm(i / self.num_particles))\n",
    "            ax.quiver(positions[i, 0], positions[i, 1], velocities[i, 0], velocities[i, 1], color=particle_color, angles='xy', scale_units='xy', scale=1, alpha=0.5)\n",
    "\n",
    " \n",
    "        plt.show()\n",
    "      \n",
    "     \n",
    "\n",
    "     \n",
    "\n",
    "# 目标值\n",
    "target_output = bran\n",
    "\n",
    "# 创建PSO优化器实例\n",
    "pso_optimizer = GradientInformedPSO(model, gradient_objective_function, target_output, epochs=2)\n",
    "\n",
    "# 执行优化\n",
    "best_position, best_score = pso_optimizer.optimize()\n",
    "print(f\"Best position (a, b): {best_position}\")\n",
    "print(f\"Best score (distance from target): {best_score}\")\n",
    "#pso_optimizer.visualize()"
   ]
  },
  {
   "cell_type": "code",
   "execution_count": 211,
   "metadata": {},
   "outputs": [
    {
     "data": {
      "image/png": "[encoded data removed]",
      "text/plain": [
       "<Figure size 432x360 with 1 Axes>"
      ]
     },
     "metadata": {
      "needs_background": "light"
     },
     "output_type": "display_data"
    }
   ],
   "source": [
    "# Adjusting the code to have three different colors for each particle, starting with circles\n",
    "# and ending with stars. The trajectory color starts light and ends dark near the star.\n",
    "\n",
    "# Create the figure and axis again\n",
    "fig, ax = plt.subplots(figsize=(6, 5))\n",
    "\n",
    "# Define colors for the particles\n",
    "colors = ['red', 'green', 'blue']\n",
    "\n",
    "# Plot trajectories with increasing line width and color gradient\n",
    "for particle_index, color in enumerate(colors):\n",
    "    for epoch in range(1, epochs):\n",
    "        prev_pos = particles_history[epoch-1][particle_index]\n",
    "        curr_pos = particles_history[epoch][particle_index]\n",
    "        #line_width =  (epoch / epochs)   # Line width increases over time\n",
    "        # Lighten the color as the epoch decreases, darken as it increases\n",
    "        color_intensity = 0.5*epoch / epochs   # Color darkens over time\n",
    "   \n",
    "        ax.plot(curr_pos[0], curr_pos[1], marker='s', color=color, markersize=10*color_intensity,alpha= color_intensity)\n",
    "\n",
    "# Mark starting positions with a circle\n",
    "for particle_index, color in enumerate(colors):\n",
    "    start_pos = particles_history[0][particle_index]\n",
    "\n",
    "    ax.plot(start_pos[0], start_pos[1], marker='+', color=color, markersize=15,alpha= 1)\n",
    "\n",
    "# Mark ending positions with a star\n",
    "for particle_index, color in enumerate(colors):\n",
    "    end_pos = particles_history[-1][particle_index]\n",
    "    ax.plot(end_pos[0], end_pos[1], marker='*', color=color, markersize=15)\n",
    "\n",
    "# Setting aspect ratio to equal for correct sdisplay of markers\n",
    "\n",
    "\n",
    "# Show the plot\n",
    "plt.show()\n"
   ]
  },
  {
   "cell_type": "code",
   "execution_count": 139,
   "metadata": {},
   "outputs": [
    {
     "data": {
      "text/plain": [
       "tensor([-0.0401], grad_fn=<TanhBackward0>)"
      ]
     },
     "execution_count": 139,
     "metadata": {},
     "output_type": "execute_result"
    }
   ],
   "source": [
    " outputs = model.bran_nn(torch.tensor([82.89249, 85.94301]))\n",
    "outputs"
   ]
  },
  {
   "cell_type": "code",
   "execution_count": 181,
   "metadata": {},
   "outputs": [
    {
     "ename": "AttributeError",
     "evalue": "'list' object has no attribute 'shape'",
     "output_type": "error",
     "traceback": [
      "\u001b[0;31m---------------------------------------------------------------------------\u001b[0m",
      "\u001b[0;31mAttributeError\u001b[0m                            Traceback (most recent call last)",
      "Cell \u001b[0;32mIn[181], line 1\u001b[0m\n\u001b[0;32m----> 1\u001b[0m \u001b[43mparticles_history\u001b[49m\u001b[38;5;241;43m.\u001b[39;49m\u001b[43mshape\u001b[49m\n",
      "\u001b[0;31mAttributeError\u001b[0m: 'list' object has no attribute 'shape'"
     ]
    }
   ],
   "source": [
    "particles_history.shape"
   ]
  },
  {
   "cell_type": "code",
   "execution_count": 140,
   "metadata": {},
   "outputs": [
    {
     "data": {
      "image/png": "[encoded data removed]",
      "text/plain": [
       "<Figure size 432x360 with 1 Axes>"
      ]
     },
     "metadata": {
      "needs_background": "light"
     },
     "output_type": "display_data"
    }
   ],
   "source": [
    "pso_optimizer.visualize()"
   ]
  }
 ],
 "metadata": {
  "kernelspec": {
   "display_name": "base",
   "language": "python",
   "name": "python3"
  },
  "language_info": {
   "codemirror_mode": {
    "name": "ipython",
    "version": 3
   },
   "file_extension": ".py",
   "mimetype": "text/x-python",
   "name": "python",
   "nbconvert_exporter": "python",
   "pygments_lexer": "ipython3",
   "version": "3.8.18"
  }
 },
 "nbformat": 4,
 "nbformat_minor": 2
}
