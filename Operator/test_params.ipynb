{
 "cells": [
  {
   "cell_type": "code",
   "execution_count": 8,
   "metadata": {},
   "outputs": [],
   "source": [
    "from neuralop.models import FNO, UNO\n",
    "from neuralop.utils import count_model_params\n",
    "import torch "
   ]
  },
  {
   "cell_type": "code",
   "execution_count": 21,
   "metadata": {},
   "outputs": [
    {
     "name": "stdout",
     "output_type": "stream",
     "text": [
      "\n",
      "Our model has 3606232 parameters.\n"
     ]
    }
   ],
   "source": [
    "model = UNO(1,640, hidden_channels=24, projection_channels=8,uno_out_channels = [16,8,8,8,16], \\\n",
    "            uno_n_modes= [[64,64],[32,32],[32,32],[32,32],[64,64]], uno_scalings=  [[1.0,1.0],[0.5,0.5],[1,1],[2,2],[1,1]],\\\n",
    "            horizontal_skips_map = None, n_layers = 5, domain_padding = 1)\n",
    "model = model.to(\"cuda\")\n",
    "\n",
    "n_params = count_model_params(model)\n",
    "print(f'\\nOur model has {n_params} parameters.')"
   ]
  },
  {
   "cell_type": "code",
   "execution_count": 22,
   "metadata": {},
   "outputs": [
    {
     "data": {
      "text/plain": [
       "2605052"
      ]
     },
     "execution_count": 22,
     "metadata": {},
     "output_type": "execute_result"
    }
   ],
   "source": [
    "trunk_nn = FNO(n_modes=(64,64),hidden_channels=12,in_channels=1,out_channels=640)\n",
    "count_model_params(trunk_nn)"
   ]
  },
  {
   "cell_type": "code",
   "execution_count": 23,
   "metadata": {},
   "outputs": [],
   "source": [
    "x = torch.randn(1, 1, 1, 300).to(\"cuda\")"
   ]
  },
  {
   "cell_type": "code",
   "execution_count": 24,
   "metadata": {},
   "outputs": [],
   "source": [
    "u_out = model(x)"
   ]
  },
  {
   "cell_type": "code",
   "execution_count": 25,
   "metadata": {},
   "outputs": [
    {
     "data": {
      "text/plain": [
       "torch.Size([1, 640, 1, 300])"
      ]
     },
     "execution_count": 25,
     "metadata": {},
     "output_type": "execute_result"
    }
   ],
   "source": [
    "u_out.shape"
   ]
  },
  {
   "cell_type": "code",
   "execution_count": 2,
   "metadata": {},
   "outputs": [],
   "source": [
    "\n",
    "import operator\n",
    "from functools import reduce\n",
    "from functools import partial\n",
    "\n",
    "# print the number of parameters\n",
    "def count_params(model):\n",
    "    c = 0\n",
    "    for p in list(model.parameters()):\n",
    "        c += reduce(operator.mul, \n",
    "                    list(p.size()+(2,) if p.is_complex() else p.size()))\n",
    "    return c\n"
   ]
  },
  {
   "cell_type": "code",
   "execution_count": 8,
   "metadata": {},
   "outputs": [
    {
     "name": "stdout",
     "output_type": "stream",
     "text": [
      "t\n"
     ]
    }
   ],
   "source": [
    "\"\"\"\n",
    "This code belongs to the paper:\n",
    "-- Tripura, T., & Chakraborty, S. (2022). Wavelet Neural Operator for solving \n",
    "   parametric partialdifferential equations in computational mechanics problems.\n",
    "   \n",
    "-- This code is for 2-D Darcy equation in triangular domain with notch (time-independent problem).\n",
    "\"\"\"\n",
    "\n",
    "import numpy as np\n",
    "import torch\n",
    "import torch.nn as nn\n",
    "import torch.nn.functional as F\n",
    "from torch.nn.parameter import Parameter\n",
    "import matplotlib.pyplot as plt\n",
    "\n",
    "from timeit import default_timer\n",
    "\n",
    "from wavelet_convolution import WaveConv2d\n",
    "\n",
    "torch.manual_seed(0)\n",
    "np.random.seed(0)\n",
    "\n",
    "# %%\n",
    "\"\"\" The forward operation \"\"\"\n",
    "class WNO2d(nn.Module):\n",
    "    def __init__(self, width, level, layers, size, wavelet, in_channel, grid_range, padding=0):\n",
    "        super(WNO2d, self).__init__()\n",
    "\n",
    "        \"\"\"\n",
    "        The WNO network. It contains l-layers of the Wavelet integral layer.\n",
    "        1. Lift the input using v(x) = self.fc0 .\n",
    "        2. l-layers of the integral operators v(j+1)(x,y) = g(K.v + W.v)(x,y).\n",
    "            --> W is defined by self.w; K is defined by self.conv.\n",
    "        3. Project the output of last layer using self.fc1 and self.fc2.\n",
    "        \n",
    "        Input : 3-channel tensor, Initial input and location (a(x,y), x,y)\n",
    "              : shape: (batchsize * x=width * x=height * c=3)\n",
    "        Output: Solution of a later timestep (u(x,y))\n",
    "              : shape: (batchsize * x=width * x=height * c=1)\n",
    "        \n",
    "        Input parameters:\n",
    "        -----------------\n",
    "        width : scalar, lifting dimension of input\n",
    "        level : scalar, number of wavelet decomposition\n",
    "        layers: scalar, number of wavelet kernel integral blocks\n",
    "        size  : list with 2 elements (for 2D), image size\n",
    "        wavelet: string, wavelet filter\n",
    "        in_channel: scalar, channels in input including grid\n",
    "        grid_range: list with 2 elements (for 2D), right supports of 2D domain\n",
    "        padding   : scalar, size of zero padding\n",
    "        \"\"\"\n",
    "\n",
    "        self.level = level\n",
    "        self.width = width\n",
    "        self.layers = layers\n",
    "        self.size = size\n",
    "        self.wavelet = wavelet\n",
    "        self.in_channel = in_channel\n",
    "        self.grid_range = grid_range \n",
    "        self.padding = padding\n",
    "        \n",
    "        self.conv = nn.ModuleList()\n",
    "        self.w = nn.ModuleList()\n",
    "        \n",
    "        self.fc0 = nn.Linear(self.in_channel, self.width) # input channel is 3: (a(x, y), x, y)\n",
    "        for i in range( self.layers ):\n",
    "            self.conv.append( WaveConv2d(self.width, self.width, self.level, self.size, self.wavelet) )\n",
    "            self.w.append( nn.Conv2d(self.width, self.width, 1) )\n",
    "        self.fc1 = nn.Linear(self.width, 128)\n",
    "        self.fc2 = nn.Linear(128, 1)\n",
    "\n",
    "    def forward(self, x):\n",
    "        grid = self.get_grid(x.shape, x.device)\n",
    "        x = torch.cat((x, grid), dim=-1)    \n",
    "        x = self.fc0(x)                      # Shape: Batch * x * y * Channel\n",
    "        x = x.permute(0, 3, 1, 2)            # Shape: Batch * Channel * x * y\n",
    "        if self.padding != 0:\n",
    "            x = F.pad(x, [0,self.padding, 0,self.padding]) \n",
    "        \n",
    "        for index, (convl, wl) in enumerate( zip(self.conv, self.w) ):\n",
    "            x = convl(x) + wl(x) \n",
    "            if index != self.layers - 1:     # Final layer has no activation    \n",
    "                x = F.mish(x)                # Shape: Batch * Channel * x * y\n",
    "                \n",
    "        if self.padding != 0:\n",
    "            x = x[..., :-self.padding, :-self.padding]     \n",
    "        x = x.permute(0, 2, 3, 1)            # Shape: Batch * x * y * Channel\n",
    "        x = F.gelu( self.fc1(x) )            # Shape: Batch * x * y * Channel\n",
    "        x = self.fc2(x)                      # Shape: Batch * x * y * Channel\n",
    "        return x\n",
    "    \n",
    "    def get_grid(self, shape, device):\n",
    "        # The grid of the solution\n",
    "        batchsize, size_x, size_y = shape[0], shape[1], shape[2]\n",
    "        gridx = torch.tensor(np.linspace(0, self.grid_range[0], size_x), dtype=torch.float)\n",
    "        gridx = gridx.reshape(1, size_x, 1, 1).repeat([batchsize, 1, size_y, 1])\n",
    "        gridy = torch.tensor(np.linspace(0, self.grid_range[1], size_y), dtype=torch.float)\n",
    "        gridy = gridy.reshape(1, 1, size_y, 1).repeat([batchsize, size_x, 1, 1])\n",
    "        return torch.cat((gridx, gridy), dim=-1).to(device)\n",
    "\n",
    "\n",
    "# %%\n",
    "\"\"\" Model configurations \"\"\"\n",
    "\n",
    "PATH = 'data/Darcy_Triangular_FNO.mat'\n",
    "ntrain = 1\n",
    "ntest = 1\n",
    "\n",
    "batch_size = 1\n",
    "learning_rate = 0.001\n",
    "\n",
    "epochs = 5\n",
    "step_size = 50   # weight-decay step size\n",
    "gamma = 0.5      # weight-decay rate\n",
    "\n",
    "wavelet = 'db6'  # wavelet basis function\n",
    "level = 2    # lavel of wavelet decomposition\n",
    "width = 14   # uplifting dimension\n",
    "layers = 6    # no of wavelet layers\n",
    "\n",
    "sub = 2          # subsampling rate\n",
    "h = int(((101 - 1)/sub) + 1) # total grid size divided by the subsampling rate\n",
    "grid_range = [1, 1]          # The grid boundary in x and y direction\n",
    "in_channel = 3  # (a(x, y), x, y) for this case\n",
    "\n",
    "# %%\n",
    "\"\"\" Read data \"\"\"\n",
    "x= 2\n",
    "s = 300  #[batch,1,1,300]\n",
    "x_train = torch.randn(1,x,s,1).cuda()\n",
    "x_test = torch.randn(1,x,s,1).cuda()\n",
    "\n",
    "y_train = torch.randn(1,x,s,1).cuda()\n",
    "y_test = torch.randn(1,x,s,1).cuda()\n",
    "# x_train = x_train.reshape(ntrain,h,h,1)\n",
    "# x_test = x_test.reshape(ntest,h,h,1)\n",
    "print(\"t\")\n",
    "# %%\n",
    "device = \"cuda\"\n",
    "\"\"\" The model definition \"\"\"\n",
    "model = WNO2d(width=width, level=level, layers=layers, size=[x,s], wavelet=wavelet,\n",
    "              in_channel=3, grid_range=grid_range, padding=0).to(device)\n",
    "print(count_params(model))\n",
    "\n",
    "print(\"hi\")\n",
    "\n",
    "\n",
    "out = model(x_train)\n",
    "print(out.shape)\n",
    "        "
   ]
  }
 ],
 "metadata": {
  "kernelspec": {
   "display_name": "base",
   "language": "python",
   "name": "python3"
  },
  "language_info": {
   "codemirror_mode": {
    "name": "ipython",
    "version": 3
   },
   "file_extension": ".py",
   "mimetype": "text/x-python",
   "name": "python",
   "nbconvert_exporter": "python",
   "pygments_lexer": "ipython3",
   "version": "3.8.18"
  }
 },
 "nbformat": 4,
 "nbformat_minor": 2
}
