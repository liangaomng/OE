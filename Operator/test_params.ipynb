{
 "cells": [
  {
   "cell_type": "code",
   "execution_count": 1,
   "metadata": {},
   "outputs": [],
   "source": [
    "from neuralop.models import FNO, UNO\n",
    "from neuralop.utils import count_model_params\n",
    "import torch "
   ]
  },
  {
   "cell_type": "code",
   "execution_count": 2,
   "metadata": {},
   "outputs": [
    {
     "name": "stdout",
     "output_type": "stream",
     "text": [
      "Original tensor_a and division_result are equal: False\n"
     ]
    }
   ],
   "source": [
    "import torch\n",
    "\n",
    "# Create a tensor of shape [1, 640, 1, 300]\n",
    "tensor_a = torch.randn(1, 640, 1, 300)\n",
    "\n",
    "# Create a tensor of shape [1, 1, 1, 1] containing the constant c\n",
    "c = 2  # This can be any non-zero value\n",
    "tensor_b = torch.full((1, 1, 1, 1), c, dtype=torch.float)\n",
    "\n",
    "# Perform multiplication\n",
    "multiplication_result = tensor_a * tensor_b\n",
    "\n",
    "# Perform division\n",
    "division_result = multiplication_result / tensor_a\n",
    "\n",
    "# Check results\n",
    "print(\"Original tensor_a and division_result are equal:\", torch.equal(tensor_b, division_result))\n"
   ]
  },
  {
   "cell_type": "code",
   "execution_count": 3,
   "metadata": {},
   "outputs": [
    {
     "data": {
      "text/plain": [
       "torch.Size([1, 640, 1, 300])"
      ]
     },
     "execution_count": 3,
     "metadata": {},
     "output_type": "execute_result"
    }
   ],
   "source": [
    "division_result.shape"
   ]
  },
  {
   "cell_type": "code",
   "execution_count": 6,
   "metadata": {},
   "outputs": [
    {
     "data": {
      "text/plain": [
       "torch.Size([1, 640, 1, 300])"
      ]
     },
     "execution_count": 6,
     "metadata": {},
     "output_type": "execute_result"
    }
   ],
   "source": [
    "multiplication_result.shape"
   ]
  },
  {
   "cell_type": "code",
   "execution_count": 21,
   "metadata": {},
   "outputs": [
    {
     "name": "stdout",
     "output_type": "stream",
     "text": [
      "\n",
      "Our model has 3606232 parameters.\n"
     ]
    }
   ],
   "source": [
    "model = UNO(1,640, hidden_channels=24, projection_channels=8,uno_out_channels = [16,8,8,8,16], \\\n",
    "            uno_n_modes= [[64,64],[32,32],[32,32],[32,32],[64,64]], uno_scalings=  [[1.0,1.0],[0.5,0.5],[1,1],[2,2],[1,1]],\\\n",
    "            horizontal_skips_map = None, n_layers = 5, domain_padding = 1)\n",
    "model = model.to(\"cuda\")\n",
    "\n",
    "n_params = count_model_params(model)\n",
    "print(f'\\nOur model has {n_params} parameters.')"
   ]
  },
  {
   "cell_type": "code",
   "execution_count": 22,
   "metadata": {},
   "outputs": [
    {
     "data": {
      "text/plain": [
       "2605052"
      ]
     },
     "execution_count": 22,
     "metadata": {},
     "output_type": "execute_result"
    }
   ],
   "source": [
    "trunk_nn = FNO(n_modes=(64,64),hidden_channels=12,in_channels=1,out_channels=640)\n",
    "count_model_params(trunk_nn)"
   ]
  },
  {
   "cell_type": "code",
   "execution_count": 23,
   "metadata": {},
   "outputs": [],
   "source": [
    "x = torch.randn(1, 1, 1, 300).to(\"cuda\")"
   ]
  },
  {
   "cell_type": "code",
   "execution_count": 24,
   "metadata": {},
   "outputs": [],
   "source": [
    "u_out = model(x)"
   ]
  },
  {
   "cell_type": "code",
   "execution_count": 25,
   "metadata": {},
   "outputs": [
    {
     "data": {
      "text/plain": [
       "torch.Size([1, 640, 1, 300])"
      ]
     },
     "execution_count": 25,
     "metadata": {},
     "output_type": "execute_result"
    }
   ],
   "source": [
    "u_out.shape"
   ]
  },
  {
   "cell_type": "code",
   "execution_count": 8,
   "metadata": {},
   "outputs": [],
   "source": [
    "\n",
    "import operator\n",
    "from functools import reduce\n",
    "from functools import partial\n",
    "\n",
    "# print the number of parameters\n",
    "def count_params(model):\n",
    "    c = 0\n",
    "    for p in list(model.parameters()):\n",
    "        c += reduce(operator.mul, \n",
    "                    list(p.size()+(2,) if p.is_complex() else p.size()))\n",
    "    return c\n"
   ]
  },
  {
   "cell_type": "code",
   "execution_count": 9,
   "metadata": {},
   "outputs": [
    {
     "name": "stdout",
     "output_type": "stream",
     "text": [
      "t\n"
     ]
    },
    {
     "ename": "ValueError",
     "evalue": "Unknown wavelet name 'coif', check wavelist() for the list of available builtin wavelets.",
     "output_type": "error",
     "traceback": [
      "\u001b[0;31m---------------------------------------------------------------------------\u001b[0m",
      "\u001b[0;31mKeyError\u001b[0m                                  Traceback (most recent call last)",
      "File \u001b[0;32mpywt/_extensions/_pywt.pyx:177\u001b[0m, in \u001b[0;36mpywt._extensions._pywt.wname_to_code\u001b[0;34m()\u001b[0m\n",
      "\u001b[0;31mKeyError\u001b[0m: 'coif'",
      "\nDuring handling of the above exception, another exception occurred:\n",
      "\u001b[0;31mValueError\u001b[0m                                Traceback (most recent call last)",
      "Cell \u001b[0;32mIn[9], line 141\u001b[0m\n\u001b[1;32m    139\u001b[0m device \u001b[38;5;241m=\u001b[39m \u001b[38;5;124m\"\u001b[39m\u001b[38;5;124mcuda\u001b[39m\u001b[38;5;124m\"\u001b[39m\n\u001b[1;32m    140\u001b[0m \u001b[38;5;124;03m\"\"\" The model definition \"\"\"\u001b[39;00m\n\u001b[0;32m--> 141\u001b[0m model \u001b[38;5;241m=\u001b[39m \u001b[43mWNO2d\u001b[49m\u001b[43m(\u001b[49m\u001b[43mwidth\u001b[49m\u001b[38;5;241;43m=\u001b[39;49m\u001b[43mwidth\u001b[49m\u001b[43m,\u001b[49m\u001b[43m \u001b[49m\u001b[43mlevel\u001b[49m\u001b[38;5;241;43m=\u001b[39;49m\u001b[43mlevel\u001b[49m\u001b[43m,\u001b[49m\u001b[43m \u001b[49m\u001b[43mlayers\u001b[49m\u001b[38;5;241;43m=\u001b[39;49m\u001b[43mlayers\u001b[49m\u001b[43m,\u001b[49m\u001b[43m \u001b[49m\u001b[43msize\u001b[49m\u001b[38;5;241;43m=\u001b[39;49m\u001b[43m[\u001b[49m\u001b[43mx\u001b[49m\u001b[43m,\u001b[49m\u001b[43ms\u001b[49m\u001b[43m]\u001b[49m\u001b[43m,\u001b[49m\u001b[43m \u001b[49m\u001b[43mwavelet\u001b[49m\u001b[38;5;241;43m=\u001b[39;49m\u001b[43mwavelet\u001b[49m\u001b[43m,\u001b[49m\n\u001b[1;32m    142\u001b[0m \u001b[43m              \u001b[49m\u001b[43min_channel\u001b[49m\u001b[38;5;241;43m=\u001b[39;49m\u001b[38;5;241;43m3\u001b[39;49m\u001b[43m,\u001b[49m\u001b[43m \u001b[49m\u001b[43mgrid_range\u001b[49m\u001b[38;5;241;43m=\u001b[39;49m\u001b[43mgrid_range\u001b[49m\u001b[43m,\u001b[49m\u001b[43m \u001b[49m\u001b[43mpadding\u001b[49m\u001b[38;5;241;43m=\u001b[39;49m\u001b[38;5;241;43m0\u001b[39;49m\u001b[43m)\u001b[49m\u001b[38;5;241m.\u001b[39mto(device)\n\u001b[1;32m    143\u001b[0m \u001b[38;5;28mprint\u001b[39m(count_params(model))\n\u001b[1;32m    145\u001b[0m \u001b[38;5;28mprint\u001b[39m(\u001b[38;5;124m\"\u001b[39m\u001b[38;5;124mhi\u001b[39m\u001b[38;5;124m\"\u001b[39m)\n",
      "Cell \u001b[0;32mIn[9], line 67\u001b[0m, in \u001b[0;36mWNO2d.__init__\u001b[0;34m(self, width, level, layers, size, wavelet, in_channel, grid_range, padding)\u001b[0m\n\u001b[1;32m     65\u001b[0m \u001b[38;5;28mself\u001b[39m\u001b[38;5;241m.\u001b[39mfc0 \u001b[38;5;241m=\u001b[39m nn\u001b[38;5;241m.\u001b[39mLinear(\u001b[38;5;28mself\u001b[39m\u001b[38;5;241m.\u001b[39min_channel, \u001b[38;5;28mself\u001b[39m\u001b[38;5;241m.\u001b[39mwidth) \u001b[38;5;66;03m# input channel is 3: (a(x, y), x, y)\u001b[39;00m\n\u001b[1;32m     66\u001b[0m \u001b[38;5;28;01mfor\u001b[39;00m i \u001b[38;5;129;01min\u001b[39;00m \u001b[38;5;28mrange\u001b[39m( \u001b[38;5;28mself\u001b[39m\u001b[38;5;241m.\u001b[39mlayers ):\n\u001b[0;32m---> 67\u001b[0m     \u001b[38;5;28mself\u001b[39m\u001b[38;5;241m.\u001b[39mconv\u001b[38;5;241m.\u001b[39mappend( \u001b[43mWaveConv2d\u001b[49m\u001b[43m(\u001b[49m\u001b[38;5;28;43mself\u001b[39;49m\u001b[38;5;241;43m.\u001b[39;49m\u001b[43mwidth\u001b[49m\u001b[43m,\u001b[49m\u001b[43m \u001b[49m\u001b[38;5;28;43mself\u001b[39;49m\u001b[38;5;241;43m.\u001b[39;49m\u001b[43mwidth\u001b[49m\u001b[43m,\u001b[49m\u001b[43m \u001b[49m\u001b[38;5;28;43mself\u001b[39;49m\u001b[38;5;241;43m.\u001b[39;49m\u001b[43mlevel\u001b[49m\u001b[43m,\u001b[49m\u001b[43m \u001b[49m\u001b[38;5;28;43mself\u001b[39;49m\u001b[38;5;241;43m.\u001b[39;49m\u001b[43msize\u001b[49m\u001b[43m,\u001b[49m\u001b[43m \u001b[49m\u001b[38;5;28;43mself\u001b[39;49m\u001b[38;5;241;43m.\u001b[39;49m\u001b[43mwavelet\u001b[49m\u001b[43m)\u001b[49m )\n\u001b[1;32m     68\u001b[0m     \u001b[38;5;28mself\u001b[39m\u001b[38;5;241m.\u001b[39mw\u001b[38;5;241m.\u001b[39mappend( nn\u001b[38;5;241m.\u001b[39mConv2d(\u001b[38;5;28mself\u001b[39m\u001b[38;5;241m.\u001b[39mwidth, \u001b[38;5;28mself\u001b[39m\u001b[38;5;241m.\u001b[39mwidth, \u001b[38;5;241m1\u001b[39m) )\n\u001b[1;32m     69\u001b[0m \u001b[38;5;28mself\u001b[39m\u001b[38;5;241m.\u001b[39mfc1 \u001b[38;5;241m=\u001b[39m nn\u001b[38;5;241m.\u001b[39mLinear(\u001b[38;5;28mself\u001b[39m\u001b[38;5;241m.\u001b[39mwidth, \u001b[38;5;241m128\u001b[39m)\n",
      "File \u001b[0;32m/liujinxin/lam/OE/Operator/wavelet_convolution.py:187\u001b[0m, in \u001b[0;36mWaveConv2d.__init__\u001b[0;34m(self, in_channels, out_channels, level, size, wavelet, mode)\u001b[0m\n\u001b[1;32m    185\u001b[0m \u001b[38;5;28mself\u001b[39m\u001b[38;5;241m.\u001b[39mmode \u001b[38;5;241m=\u001b[39m mode\n\u001b[1;32m    186\u001b[0m dummy_data \u001b[38;5;241m=\u001b[39m torch\u001b[38;5;241m.\u001b[39mrandn( \u001b[38;5;241m1\u001b[39m,\u001b[38;5;241m1\u001b[39m,\u001b[38;5;241m*\u001b[39m\u001b[38;5;28mself\u001b[39m\u001b[38;5;241m.\u001b[39msize )        \n\u001b[0;32m--> 187\u001b[0m dwt_ \u001b[38;5;241m=\u001b[39m \u001b[43mDWT\u001b[49m\u001b[43m(\u001b[49m\u001b[43mJ\u001b[49m\u001b[38;5;241;43m=\u001b[39;49m\u001b[38;5;28;43mself\u001b[39;49m\u001b[38;5;241;43m.\u001b[39;49m\u001b[43mlevel\u001b[49m\u001b[43m,\u001b[49m\u001b[43m \u001b[49m\u001b[43mmode\u001b[49m\u001b[38;5;241;43m=\u001b[39;49m\u001b[38;5;28;43mself\u001b[39;49m\u001b[38;5;241;43m.\u001b[39;49m\u001b[43mmode\u001b[49m\u001b[43m,\u001b[49m\u001b[43m \u001b[49m\u001b[43mwave\u001b[49m\u001b[38;5;241;43m=\u001b[39;49m\u001b[38;5;28;43mself\u001b[39;49m\u001b[38;5;241;43m.\u001b[39;49m\u001b[43mwavelet\u001b[49m\u001b[43m)\u001b[49m\n\u001b[1;32m    188\u001b[0m mode_data, mode_coef \u001b[38;5;241m=\u001b[39m dwt_(dummy_data)\n\u001b[1;32m    189\u001b[0m \u001b[38;5;28mself\u001b[39m\u001b[38;5;241m.\u001b[39mmodes1 \u001b[38;5;241m=\u001b[39m mode_data\u001b[38;5;241m.\u001b[39mshape[\u001b[38;5;241m-\u001b[39m\u001b[38;5;241m2\u001b[39m]\n",
      "File \u001b[0;32m/opt/conda/lib/python3.8/site-packages/pytorch_wavelets/dwt/transform2d.py:23\u001b[0m, in \u001b[0;36mDWTForward.__init__\u001b[0;34m(self, J, wave, mode)\u001b[0m\n\u001b[1;32m     21\u001b[0m \u001b[38;5;28msuper\u001b[39m()\u001b[38;5;241m.\u001b[39m\u001b[38;5;21m__init__\u001b[39m()\n\u001b[1;32m     22\u001b[0m \u001b[38;5;28;01mif\u001b[39;00m \u001b[38;5;28misinstance\u001b[39m(wave, \u001b[38;5;28mstr\u001b[39m):\n\u001b[0;32m---> 23\u001b[0m     wave \u001b[38;5;241m=\u001b[39m \u001b[43mpywt\u001b[49m\u001b[38;5;241;43m.\u001b[39;49m\u001b[43mWavelet\u001b[49m\u001b[43m(\u001b[49m\u001b[43mwave\u001b[49m\u001b[43m)\u001b[49m\n\u001b[1;32m     24\u001b[0m \u001b[38;5;28;01mif\u001b[39;00m \u001b[38;5;28misinstance\u001b[39m(wave, pywt\u001b[38;5;241m.\u001b[39mWavelet):\n\u001b[1;32m     25\u001b[0m     h0_col, h1_col \u001b[38;5;241m=\u001b[39m wave\u001b[38;5;241m.\u001b[39mdec_lo, wave\u001b[38;5;241m.\u001b[39mdec_hi\n",
      "File \u001b[0;32mpywt/_extensions/_pywt.pyx:357\u001b[0m, in \u001b[0;36mpywt._extensions._pywt.Wavelet.__cinit__\u001b[0;34m()\u001b[0m\n",
      "File \u001b[0;32mpywt/_extensions/_pywt.pyx:180\u001b[0m, in \u001b[0;36mpywt._extensions._pywt.wname_to_code\u001b[0;34m()\u001b[0m\n",
      "\u001b[0;31mValueError\u001b[0m: Unknown wavelet name 'coif', check wavelist() for the list of available builtin wavelets."
     ]
    }
   ],
   "source": [
    "\"\"\"\n",
    "This code belongs to the paper:\n",
    "-- Tripura, T., & Chakraborty, S. (2022). Wavelet Neural Operator for solving \n",
    "   parametric partialdifferential equations in computational mechanics problems.\n",
    "   \n",
    "-- This code is for 2-D Darcy equation in triangular domain with notch (time-independent problem).\n",
    "\"\"\"\n",
    "\n",
    "import numpy as np\n",
    "import torch\n",
    "import torch.nn as nn\n",
    "import torch.nn.functional as F\n",
    "from torch.nn.parameter import Parameter\n",
    "import matplotlib.pyplot as plt\n",
    "\n",
    "from timeit import default_timer\n",
    "\n",
    "from wavelet_convolution import WaveConv2d\n",
    "\n",
    "torch.manual_seed(0)\n",
    "np.random.seed(0)\n",
    "\n",
    "# %%\n",
    "\"\"\" The forward operation \"\"\"\n",
    "class WNO2d(nn.Module):\n",
    "    def __init__(self, width, level, layers, size, wavelet, in_channel, grid_range, padding=0):\n",
    "        super(WNO2d, self).__init__()\n",
    "\n",
    "        \"\"\"\n",
    "        The WNO network. It contains l-layers of the Wavelet integral layer.\n",
    "        1. Lift the input using v(x) = self.fc0 .\n",
    "        2. l-layers of the integral operators v(j+1)(x,y) = g(K.v + W.v)(x,y).\n",
    "            --> W is defined by self.w; K is defined by self.conv.\n",
    "        3. Project the output of last layer using self.fc1 and self.fc2.\n",
    "        \n",
    "        Input : 3-channel tensor, Initial input and location (a(x,y), x,y)\n",
    "              : shape: (batchsize * x=width * x=height * c=3)\n",
    "        Output: Solution of a later timestep (u(x,y))\n",
    "              : shape: (batchsize * x=width * x=height * c=1)\n",
    "        \n",
    "        Input parameters:\n",
    "        -----------------\n",
    "        width : scalar, lifting dimension of input\n",
    "        level : scalar, number of wavelet decomposition\n",
    "        layers: scalar, number of wavelet kernel integral blocks\n",
    "        size  : list with 2 elements (for 2D), image size\n",
    "        wavelet: string, wavelet filter\n",
    "        in_channel: scalar, channels in input including grid\n",
    "        grid_range: list with 2 elements (for 2D), right supports of 2D domain\n",
    "        padding   : scalar, size of zero padding\n",
    "        \"\"\"\n",
    "\n",
    "        self.level = level\n",
    "        self.width = width\n",
    "        self.layers = layers\n",
    "        self.size = size\n",
    "        self.wavelet = wavelet\n",
    "        self.in_channel = in_channel\n",
    "        self.grid_range = grid_range \n",
    "        self.padding = padding\n",
    "        \n",
    "        self.conv = nn.ModuleList()\n",
    "        self.w = nn.ModuleList()\n",
    "        \n",
    "        self.fc0 = nn.Linear(self.in_channel, self.width) # input channel is 3: (a(x, y), x, y)\n",
    "        for i in range( self.layers ):\n",
    "            self.conv.append( WaveConv2d(self.width, self.width, self.level, self.size, self.wavelet) )\n",
    "            self.w.append( nn.Conv2d(self.width, self.width, 1) )\n",
    "        self.fc1 = nn.Linear(self.width, 128)\n",
    "        self.fc2 = nn.Linear(128, 1)\n",
    "\n",
    "    def forward(self, x):\n",
    "        grid = self.get_grid(x.shape, x.device)\n",
    "        x = torch.cat((x, grid), dim=-1)    \n",
    "        x = self.fc0(x)                      # Shape: Batch * x * y * Channel\n",
    "        x = x.permute(0, 3, 1, 2)            # Shape: Batch * Channel * x * y\n",
    "        if self.padding != 0:\n",
    "            x = F.pad(x, [0,self.padding, 0,self.padding]) \n",
    "        \n",
    "        for index, (convl, wl) in enumerate( zip(self.conv, self.w) ):\n",
    "            x = convl(x) + wl(x) \n",
    "            if index != self.layers - 1:     # Final layer has no activation    \n",
    "                x = F.mish(x)                # Shape: Batch * Channel * x * y\n",
    "                \n",
    "        if self.padding != 0:\n",
    "            x = x[..., :-self.padding, :-self.padding]     \n",
    "        x = x.permute(0, 2, 3, 1)            # Shape: Batch * x * y * Channel\n",
    "        x = F.gelu( self.fc1(x) )            # Shape: Batch * x * y * Channel\n",
    "        x = self.fc2(x)                      # Shape: Batch * x * y * Channel\n",
    "        return x\n",
    "    \n",
    "    def get_grid(self, shape, device):\n",
    "        # The grid of the solution\n",
    "        batchsize, size_x, size_y = shape[0], shape[1], shape[2]\n",
    "        gridx = torch.tensor(np.linspace(0, self.grid_range[0], size_x), dtype=torch.float)\n",
    "        gridx = gridx.reshape(1, size_x, 1, 1).repeat([batchsize, 1, size_y, 1])\n",
    "        gridy = torch.tensor(np.linspace(0, self.grid_range[1], size_y), dtype=torch.float)\n",
    "        gridy = gridy.reshape(1, 1, size_y, 1).repeat([batchsize, size_x, 1, 1])\n",
    "        return torch.cat((gridx, gridy), dim=-1).to(device)\n",
    "\n",
    "\n",
    "# %%\n",
    "\"\"\" Model configurations \"\"\"\n",
    "\n",
    "PATH = 'data/Darcy_Triangular_FNO.mat'\n",
    "ntrain = 1\n",
    "ntest = 1\n",
    "\n",
    "batch_size = 1\n",
    "learning_rate = 0.001\n",
    "\n",
    "epochs = 5\n",
    "step_size = 50   # weight-decay step size\n",
    "gamma = 0.5      # weight-decay rate\n",
    "\n",
    "wavelet = 'coif3'  # wavelet basis function\n",
    "level = 2    # lavel of wavelet decomposition\n",
    "width = 14   # uplifting dimension\n",
    "layers = 6    # no of wavelet layers\n",
    "\n",
    "sub = 2          # subsampling rate\n",
    "h = int(((101 - 1)/sub) + 1) # total grid size divided by the subsampling rate\n",
    "grid_range = [1, 1]          # The grid boundary in x and y direction\n",
    "in_channel = 3  # (a(x, y), x, y) for this case\n",
    "\n",
    "# %%\n",
    "\"\"\" Read data \"\"\"\n",
    "x= 2\n",
    "s = 300  #[batch,1,1,300]\n",
    "x_train = torch.randn(1,x,s,1).cuda()\n",
    "x_test = torch.randn(1,x,s,1).cuda()\n",
    "\n",
    "y_train = torch.randn(1,x,s,1).cuda()\n",
    "y_test = torch.randn(1,x,s,1).cuda()\n",
    "# x_train = x_train.reshape(ntrain,h,h,1)\n",
    "# x_test = x_test.reshape(ntest,h,h,1)\n",
    "print(\"t\")\n",
    "# %%\n",
    "device = \"cuda\"\n",
    "\"\"\" The model definition \"\"\"\n",
    "model = WNO2d(width=width, level=level, layers=layers, size=[x,s], wavelet=wavelet,\n",
    "              in_channel=3, grid_range=grid_range, padding=0).to(device)\n",
    "print(count_params(model))\n",
    "\n",
    "print(\"hi\")\n",
    "\n",
    "\n",
    "out = model(x_train)\n",
    "print(out.shape)\n",
    "        "
   ]
  },
  {
   "cell_type": "code",
   "execution_count": 13,
   "metadata": {},
   "outputs": [
    {
     "name": "stdout",
     "output_type": "stream",
     "text": [
      "best_x is  [0.   0.05 0.5 ] best_y is 0.25\n"
     ]
    }
   ],
   "source": [
    "from sko.PSO import PSO\n",
    "\n",
    "pso = PSO(func=demo_func,\n",
    "          dim=3, \n",
    "          pop=40, \n",
    "          max_iter=150, lb=[0, -1, 0.5], ub=[1, 1, 1], w=0.8, c1=0.5, c2=0.5)\n",
    "pso.run()\n",
    "print('best_x is ', pso.gbest_x, 'best_y is', pso.gbest_y)\n",
    "import matplotlib.pyplot as plt\n"
   ]
  },
  {
   "cell_type": "code",
   "execution_count": 52,
   "metadata": {},
   "outputs": [
    {
     "name": "stdout",
     "output_type": "stream",
     "text": [
      "step0 torch.Size([10000])\n",
      "step1 torch.Size([10000])\n",
      "step2 torch.Size([10000])\n",
      "step3 torch.Size([10000])\n",
      "step4 torch.Size([10000])\n",
      "step5 torch.Size([10000])\n",
      "step6 torch.Size([10000])\n",
      "step7 torch.Size([10000])\n",
      "step8 torch.Size([10000])\n"
     ]
    },
    {
     "ename": "KeyboardInterrupt",
     "evalue": "",
     "output_type": "error",
     "traceback": [
      "\u001b[0;31m---------------------------------------------------------------------------\u001b[0m",
      "\u001b[0;31mKeyboardInterrupt\u001b[0m                         Traceback (most recent call last)",
      "Cell \u001b[0;32mIn[52], line 61\u001b[0m\n\u001b[1;32m     59\u001b[0m bounds \u001b[38;5;241m=\u001b[39m [(\u001b[38;5;241m-\u001b[39m\u001b[38;5;241m5\u001b[39m, \u001b[38;5;241m5\u001b[39m), (\u001b[38;5;241m-\u001b[39m\u001b[38;5;241m10\u001b[39m, \u001b[38;5;241m10\u001b[39m)]  \u001b[38;5;66;03m# 为每个维度设置不同的界限\u001b[39;00m\n\u001b[1;32m     60\u001b[0m optimizer \u001b[38;5;241m=\u001b[39m ParticleSwarmOptimizer(num_particles\u001b[38;5;241m=\u001b[39m\u001b[38;5;241m10000\u001b[39m, dimensions\u001b[38;5;241m=\u001b[39m\u001b[38;5;241m2\u001b[39m, bounds\u001b[38;5;241m=\u001b[39mbounds)\n\u001b[0;32m---> 61\u001b[0m g_best, min_value \u001b[38;5;241m=\u001b[39m \u001b[43moptimizer\u001b[49m\u001b[38;5;241;43m.\u001b[39;49m\u001b[43moptimize\u001b[49m\u001b[43m(\u001b[49m\u001b[43mnum_iterations\u001b[49m\u001b[38;5;241;43m=\u001b[39;49m\u001b[38;5;241;43m2000\u001b[39;49m\u001b[43m)\u001b[49m\n\u001b[1;32m     62\u001b[0m \u001b[38;5;28mprint\u001b[39m(\u001b[38;5;124mf\u001b[39m\u001b[38;5;124m\"\u001b[39m\u001b[38;5;124mGlobal best position: \u001b[39m\u001b[38;5;132;01m{\u001b[39;00mg_best\u001b[38;5;132;01m}\u001b[39;00m\u001b[38;5;124m\"\u001b[39m)\n\u001b[1;32m     63\u001b[0m \u001b[38;5;28mprint\u001b[39m(\u001b[38;5;124mf\u001b[39m\u001b[38;5;124m\"\u001b[39m\u001b[38;5;124mMinimum value: \u001b[39m\u001b[38;5;132;01m{\u001b[39;00mmin_value\u001b[38;5;132;01m}\u001b[39;00m\u001b[38;5;124m\"\u001b[39m)\n",
      "Cell \u001b[0;32mIn[52], line 39\u001b[0m, in \u001b[0;36mParticleSwarmOptimizer.optimize\u001b[0;34m(self, num_iterations, c1, c2, w)\u001b[0m\n\u001b[1;32m     37\u001b[0m \u001b[38;5;66;03m# 更新个体最佳位置和全局最佳位置\u001b[39;00m\n\u001b[1;32m     38\u001b[0m objective_values \u001b[38;5;241m=\u001b[39m \u001b[38;5;28mself\u001b[39m\u001b[38;5;241m.\u001b[39mobjective_function(\u001b[38;5;28mself\u001b[39m\u001b[38;5;241m.\u001b[39mx)\n\u001b[0;32m---> 39\u001b[0m better_mask \u001b[38;5;241m=\u001b[39m objective_values \u001b[38;5;241m<\u001b[39m \u001b[38;5;28;43mself\u001b[39;49m\u001b[38;5;241;43m.\u001b[39;49m\u001b[43mobjective_function\u001b[49m\u001b[43m(\u001b[49m\u001b[38;5;28;43mself\u001b[39;49m\u001b[38;5;241;43m.\u001b[39;49m\u001b[43mp_best\u001b[49m\u001b[43m)\u001b[49m\n\u001b[1;32m     40\u001b[0m \u001b[38;5;28mself\u001b[39m\u001b[38;5;241m.\u001b[39mp_best[better_mask] \u001b[38;5;241m=\u001b[39m \u001b[38;5;28mself\u001b[39m\u001b[38;5;241m.\u001b[39mx[better_mask]\n\u001b[1;32m     41\u001b[0m current_best_idx \u001b[38;5;241m=\u001b[39m objective_values\u001b[38;5;241m.\u001b[39margmin()\n",
      "Cell \u001b[0;32mIn[52], line 26\u001b[0m, in \u001b[0;36mParticleSwarmOptimizer.objective_function\u001b[0;34m(self, x)\u001b[0m\n\u001b[1;32m     24\u001b[0m \u001b[38;5;28;01mif\u001b[39;00m x\u001b[38;5;241m.\u001b[39mdim() \u001b[38;5;241m==\u001b[39m \u001b[38;5;241m1\u001b[39m:\n\u001b[1;32m     25\u001b[0m     x \u001b[38;5;241m=\u001b[39m x\u001b[38;5;241m.\u001b[39munsqueeze(\u001b[38;5;241m0\u001b[39m)\n\u001b[0;32m---> 26\u001b[0m \u001b[38;5;28;01mreturn\u001b[39;00m (x\u001b[38;5;241m*\u001b[39m\u001b[38;5;241m*\u001b[39m\u001b[38;5;241m2\u001b[39m \u001b[38;5;241m-\u001b[39m \u001b[38;5;241m10\u001b[39m \u001b[38;5;241m*\u001b[39m \u001b[43mtorch\u001b[49m\u001b[38;5;241;43m.\u001b[39;49m\u001b[43mcos\u001b[49m\u001b[43m(\u001b[49m\u001b[38;5;241;43m2\u001b[39;49m\u001b[43m \u001b[49m\u001b[38;5;241;43m*\u001b[39;49m\u001b[43m \u001b[49m\u001b[43mtorch\u001b[49m\u001b[38;5;241;43m.\u001b[39;49m\u001b[43mpi\u001b[49m\u001b[43m \u001b[49m\u001b[38;5;241;43m*\u001b[39;49m\u001b[43m \u001b[49m\u001b[43mx\u001b[49m\u001b[43m)\u001b[49m \u001b[38;5;241m+\u001b[39m \u001b[38;5;241m10\u001b[39m)\u001b[38;5;241m.\u001b[39msum(dim\u001b[38;5;241m=\u001b[39m\u001b[38;5;241m1\u001b[39m)\n",
      "\u001b[0;31mKeyboardInterrupt\u001b[0m: "
     ]
    }
   ],
   "source": [
    "import torch\n",
    "\n",
    "class ParticleSwarmOptimizer:\n",
    "    def __init__(self, num_particles, dimensions, bounds):\n",
    "        self.num_particles = num_particles\n",
    "        self.dimensions = dimensions\n",
    "        self.bounds = bounds\n",
    "        self.x = torch.empty(num_particles, dimensions)\n",
    "        self.v = torch.zeros(num_particles, dimensions)\n",
    "        \n",
    "        # 初始化位置\n",
    "        for dim in range(dimensions):\n",
    "            self.x[:, dim] = torch.rand(num_particles) * (bounds[dim][1] - bounds[dim][0]) + bounds[dim][0]\n",
    "\n",
    "        self.p_best = self.x.clone()\n",
    "        self.g_best = self.x[self.objective_function(self.x).argmin()].clone()\n",
    "\n",
    "        # 初始化历史记录列表\n",
    "        self.positions_history = [self.x.clone()]\n",
    "        self.objective_history = [self.objective_function(self.x).clone()]\n",
    "\n",
    "    def objective_function(self, x):\n",
    "        # 确保x至少是二维的\n",
    "        if x.dim() == 1:\n",
    "            x = x.unsqueeze(0)\n",
    "        return (x**2 - 10 * torch.cos(2 * torch.pi * x) + 10).sum(dim=1)\n",
    "\n",
    "    def optimize(self, num_iterations, c1=1.5, c2=2.0, w=0.9):\n",
    "        for i in range(num_iterations):\n",
    "\n",
    "           \n",
    "            r1 = torch.rand_like(self.x)\n",
    "            r2 = torch.rand_like(self.x)\n",
    "            self.v = w * self.v + c1 * r1 * (self.p_best - self.x) + c2 * r2 * (self.g_best - self.x)\n",
    "            self.x += self.v\n",
    "\n",
    "            # 更新个体最佳位置和全局最佳位置\n",
    "            objective_values = self.objective_function(self.x)\n",
    "            better_mask = objective_values < self.objective_function(self.p_best)\n",
    "            self.p_best[better_mask] = self.x[better_mask]\n",
    "            current_best_idx = objective_values.argmin()\n",
    "            current_best_value = objective_values[current_best_idx]\n",
    "            if current_best_value < self.objective_function(self.g_best):\n",
    "                self.g_best = self.x[current_best_idx].clone()\n",
    "\n",
    "            # 记录当前位置和目标函数值\n",
    "            self.positions_history.append(self.x.clone())\n",
    "            self.objective_history.append(objective_values.clone())\n",
    "            print(f\"step{i}\",objective_values.shape) \n",
    "\n",
    "        return self.g_best, self.objective_function(self.g_best)\n",
    "\n",
    "    def print_history(self):\n",
    "        print(\"Objective Function Values Over Iterations:\")\n",
    "        for idx, values in enumerate(self.objective_history):\n",
    "            print(f\"Step {idx}: {values}\")\n",
    "\n",
    "# 示例代码\n",
    "bounds = [(-5, 5), (-10, 10)]  # 为每个维度设置不同的界限\n",
    "optimizer = ParticleSwarmOptimizer(num_particles=10000, dimensions=2, bounds=bounds)\n",
    "g_best, min_value = optimizer.optimize(num_iterations=2000)\n",
    "print(f\"Global best position: {g_best}\")\n",
    "print(f\"Minimum value: {min_value}\")\n",
    "optimizer.print_history()\n"
   ]
  }
 ],
 "metadata": {
  "kernelspec": {
   "display_name": "base",
   "language": "python",
   "name": "python3"
  },
  "language_info": {
   "codemirror_mode": {
    "name": "ipython",
    "version": 3
   },
   "file_extension": ".py",
   "mimetype": "text/x-python",
   "name": "python",
   "nbconvert_exporter": "python",
   "pygments_lexer": "ipython3",
   "version": "3.8.18"
  }
 },
 "nbformat": 4,
 "nbformat_minor": 2
}
